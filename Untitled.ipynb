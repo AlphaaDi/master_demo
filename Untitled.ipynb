{
 "cells": [
  {
   "cell_type": "code",
   "execution_count": 1,
   "id": "2e03cb15-4ef9-4272-bc8c-7537751f2da6",
   "metadata": {},
   "outputs": [],
   "source": [
    "import sys\n",
    "import csv\n",
    "import json\n",
    "from copy import deepcopy\n",
    "from flask import url_for,jsonify\n",
    "from mongo_handler import TaskDatabase"
   ]
  },
  {
   "cell_type": "code",
   "execution_count": 2,
   "id": "f90ba91b-38ee-4e0e-9c01-e18588439453",
   "metadata": {},
   "outputs": [],
   "source": [
    "from pymongo import MongoClient\n",
    "import pandas as pd"
   ]
  },
  {
   "cell_type": "code",
   "execution_count": 3,
   "id": "4e9c2a35-281f-4650-bbe3-63dcefabf1f6",
   "metadata": {},
   "outputs": [],
   "source": [
    "client = MongoClient(\"localhost\", 27017, maxPoolSize=50)\n",
    "db = client.mydb\n",
    "collection = db.angel\n",
    "data = pd.DataFrame(list(collection.find()))"
   ]
  },
  {
   "cell_type": "code",
   "execution_count": 4,
   "id": "a8802bc7-d8ea-4434-9b8f-bcc5608ac159",
   "metadata": {},
   "outputs": [],
   "source": [
    "db_url = 'mongodb://localhost:8444/'  # Replace with your MongoDB URL\n",
    "db_name = 'mydatabase'                 # Replace with your database name"
   ]
  },
  {
   "cell_type": "code",
   "execution_count": null,
   "id": "bf51c089-5671-48c5-a2b9-a8ea8e696a7e",
   "metadata": {},
   "outputs": [],
   "source": [
    "host=db_host, port=db_port"
   ]
  },
  {
   "cell_type": "code",
   "execution_count": 5,
   "id": "68e2a271-8f61-4f3b-bd22-1e30a5c1fee2",
   "metadata": {},
   "outputs": [],
   "source": [
    "db = TaskDatabase(db_host='localhost', db_port=27017, db_name='app')"
   ]
  },
  {
   "cell_type": "code",
   "execution_count": 7,
   "id": "76f1867e-9495-4878-bef4-1b29acc6a5b6",
   "metadata": {},
   "outputs": [
    {
     "ename": "ServerSelectionTimeoutError",
     "evalue": "localhost:27017: [Errno 61] Connection refused (configured timeouts: socketTimeoutMS: 20000.0ms, connectTimeoutMS: 20000.0ms), Timeout: 30s, Topology Description: <TopologyDescription id: 65e349b91582e88af005785c, topology_type: Unknown, servers: [<ServerDescription ('localhost', 27017) server_type: Unknown, rtt: None, error=AutoReconnect('localhost:27017: [Errno 61] Connection refused (configured timeouts: socketTimeoutMS: 20000.0ms, connectTimeoutMS: 20000.0ms)')>]>",
     "output_type": "error",
     "traceback": [
      "\u001b[0;31m---------------------------------------------------------------------------\u001b[0m",
      "\u001b[0;31mServerSelectionTimeoutError\u001b[0m               Traceback (most recent call last)",
      "Cell \u001b[0;32mIn[7], line 1\u001b[0m\n\u001b[0;32m----> 1\u001b[0m \u001b[43mdb\u001b[49m\u001b[38;5;241;43m.\u001b[39;49m\u001b[43mstore_link_with_uuid\u001b[49m\u001b[43m(\u001b[49m\u001b[38;5;241;43m111\u001b[39;49m\u001b[43m)\u001b[49m\n",
      "File \u001b[0;32m~/code/master_demo/mongo_handler.py:52\u001b[0m, in \u001b[0;36mTaskDatabase.store_link_with_uuid\u001b[0;34m(self, uuid4)\u001b[0m\n\u001b[1;32m     47\u001b[0m \u001b[38;5;28;01mdef\u001b[39;00m \u001b[38;5;21mstore_link_with_uuid\u001b[39m(\u001b[38;5;28mself\u001b[39m, uuid4):\n\u001b[1;32m     48\u001b[0m     document \u001b[38;5;241m=\u001b[39m {\n\u001b[1;32m     49\u001b[0m         \u001b[38;5;124m\"\u001b[39m\u001b[38;5;124muuid\u001b[39m\u001b[38;5;124m\"\u001b[39m: uuid4,\n\u001b[1;32m     50\u001b[0m         \u001b[38;5;124m\"\u001b[39m\u001b[38;5;124mcreated_at\u001b[39m\u001b[38;5;124m\"\u001b[39m: datetime\u001b[38;5;241m.\u001b[39mnow()\u001b[38;5;241m.\u001b[39misoformat(),\n\u001b[1;32m     51\u001b[0m     }\n\u001b[0;32m---> 52\u001b[0m     \u001b[38;5;28;43mself\u001b[39;49m\u001b[38;5;241;43m.\u001b[39;49m\u001b[43muser_db\u001b[49m\u001b[38;5;241;43m.\u001b[39;49m\u001b[43minsert_one\u001b[49m\u001b[43m(\u001b[49m\u001b[43mdocument\u001b[49m\u001b[43m)\u001b[49m\n",
      "File \u001b[0;32m~/miniconda3/lib/python3.10/site-packages/pymongo/collection.py:669\u001b[0m, in \u001b[0;36mCollection.insert_one\u001b[0;34m(self, document, bypass_document_validation, session, comment)\u001b[0m\n\u001b[1;32m    665\u001b[0m     document[\u001b[38;5;124m\"\u001b[39m\u001b[38;5;124m_id\u001b[39m\u001b[38;5;124m\"\u001b[39m] \u001b[38;5;241m=\u001b[39m ObjectId()  \u001b[38;5;66;03m# type: ignore[index]\u001b[39;00m\n\u001b[1;32m    667\u001b[0m write_concern \u001b[38;5;241m=\u001b[39m \u001b[38;5;28mself\u001b[39m\u001b[38;5;241m.\u001b[39m_write_concern_for(session)\n\u001b[1;32m    668\u001b[0m \u001b[38;5;28;01mreturn\u001b[39;00m InsertOneResult(\n\u001b[0;32m--> 669\u001b[0m     \u001b[38;5;28;43mself\u001b[39;49m\u001b[38;5;241;43m.\u001b[39;49m\u001b[43m_insert_one\u001b[49m\u001b[43m(\u001b[49m\n\u001b[1;32m    670\u001b[0m \u001b[43m        \u001b[49m\u001b[43mdocument\u001b[49m\u001b[43m,\u001b[49m\n\u001b[1;32m    671\u001b[0m \u001b[43m        \u001b[49m\u001b[43mordered\u001b[49m\u001b[38;5;241;43m=\u001b[39;49m\u001b[38;5;28;43;01mTrue\u001b[39;49;00m\u001b[43m,\u001b[49m\n\u001b[1;32m    672\u001b[0m \u001b[43m        \u001b[49m\u001b[43mwrite_concern\u001b[49m\u001b[38;5;241;43m=\u001b[39;49m\u001b[43mwrite_concern\u001b[49m\u001b[43m,\u001b[49m\n\u001b[1;32m    673\u001b[0m \u001b[43m        \u001b[49m\u001b[43mop_id\u001b[49m\u001b[38;5;241;43m=\u001b[39;49m\u001b[38;5;28;43;01mNone\u001b[39;49;00m\u001b[43m,\u001b[49m\n\u001b[1;32m    674\u001b[0m \u001b[43m        \u001b[49m\u001b[43mbypass_doc_val\u001b[49m\u001b[38;5;241;43m=\u001b[39;49m\u001b[43mbypass_document_validation\u001b[49m\u001b[43m,\u001b[49m\n\u001b[1;32m    675\u001b[0m \u001b[43m        \u001b[49m\u001b[43msession\u001b[49m\u001b[38;5;241;43m=\u001b[39;49m\u001b[43msession\u001b[49m\u001b[43m,\u001b[49m\n\u001b[1;32m    676\u001b[0m \u001b[43m        \u001b[49m\u001b[43mcomment\u001b[49m\u001b[38;5;241;43m=\u001b[39;49m\u001b[43mcomment\u001b[49m\u001b[43m,\u001b[49m\n\u001b[1;32m    677\u001b[0m \u001b[43m    \u001b[49m\u001b[43m)\u001b[49m,\n\u001b[1;32m    678\u001b[0m     write_concern\u001b[38;5;241m.\u001b[39macknowledged,\n\u001b[1;32m    679\u001b[0m )\n",
      "File \u001b[0;32m~/miniconda3/lib/python3.10/site-packages/pymongo/collection.py:609\u001b[0m, in \u001b[0;36mCollection._insert_one\u001b[0;34m(self, doc, ordered, write_concern, op_id, bypass_doc_val, session, comment)\u001b[0m\n\u001b[1;32m    597\u001b[0m     result \u001b[38;5;241m=\u001b[39m conn\u001b[38;5;241m.\u001b[39mcommand(\n\u001b[1;32m    598\u001b[0m         \u001b[38;5;28mself\u001b[39m\u001b[38;5;241m.\u001b[39m__database\u001b[38;5;241m.\u001b[39mname,\n\u001b[1;32m    599\u001b[0m         command,\n\u001b[0;32m   (...)\u001b[0m\n\u001b[1;32m    604\u001b[0m         retryable_write\u001b[38;5;241m=\u001b[39mretryable_write,\n\u001b[1;32m    605\u001b[0m     )\n\u001b[1;32m    607\u001b[0m     _check_write_command_response(result)\n\u001b[0;32m--> 609\u001b[0m \u001b[38;5;28;43mself\u001b[39;49m\u001b[38;5;241;43m.\u001b[39;49m\u001b[43m__database\u001b[49m\u001b[38;5;241;43m.\u001b[39;49m\u001b[43mclient\u001b[49m\u001b[38;5;241;43m.\u001b[39;49m\u001b[43m_retryable_write\u001b[49m\u001b[43m(\u001b[49m\u001b[43macknowledged\u001b[49m\u001b[43m,\u001b[49m\u001b[43m \u001b[49m\u001b[43m_insert_command\u001b[49m\u001b[43m,\u001b[49m\u001b[43m \u001b[49m\u001b[43msession\u001b[49m\u001b[43m)\u001b[49m\n\u001b[1;32m    611\u001b[0m \u001b[38;5;28;01mif\u001b[39;00m \u001b[38;5;129;01mnot\u001b[39;00m \u001b[38;5;28misinstance\u001b[39m(doc, RawBSONDocument):\n\u001b[1;32m    612\u001b[0m     \u001b[38;5;28;01mreturn\u001b[39;00m doc\u001b[38;5;241m.\u001b[39mget(\u001b[38;5;124m\"\u001b[39m\u001b[38;5;124m_id\u001b[39m\u001b[38;5;124m\"\u001b[39m)\n",
      "File \u001b[0;32m~/miniconda3/lib/python3.10/site-packages/pymongo/mongo_client.py:1522\u001b[0m, in \u001b[0;36mMongoClient._retryable_write\u001b[0;34m(self, retryable, func, session, bulk)\u001b[0m\n\u001b[1;32m   1502\u001b[0m \u001b[38;5;28;01mdef\u001b[39;00m \u001b[38;5;21m_retryable_write\u001b[39m(\n\u001b[1;32m   1503\u001b[0m     \u001b[38;5;28mself\u001b[39m,\n\u001b[1;32m   1504\u001b[0m     retryable: \u001b[38;5;28mbool\u001b[39m,\n\u001b[0;32m   (...)\u001b[0m\n\u001b[1;32m   1507\u001b[0m     bulk: Optional[_Bulk] \u001b[38;5;241m=\u001b[39m \u001b[38;5;28;01mNone\u001b[39;00m,\n\u001b[1;32m   1508\u001b[0m ) \u001b[38;5;241m-\u001b[39m\u001b[38;5;241m>\u001b[39m T:\n\u001b[1;32m   1509\u001b[0m \u001b[38;5;250m    \u001b[39m\u001b[38;5;124;03m\"\"\"Execute an operation with consecutive retries if possible\u001b[39;00m\n\u001b[1;32m   1510\u001b[0m \n\u001b[1;32m   1511\u001b[0m \u001b[38;5;124;03m    Returns func()'s return value on success. On error retries the same\u001b[39;00m\n\u001b[0;32m   (...)\u001b[0m\n\u001b[1;32m   1520\u001b[0m \u001b[38;5;124;03m      - `bulk`: bulk abstraction to execute operations in bulk, defaults to None\u001b[39;00m\n\u001b[1;32m   1521\u001b[0m \u001b[38;5;124;03m    \"\"\"\u001b[39;00m\n\u001b[0;32m-> 1522\u001b[0m     \u001b[38;5;28;01mwith\u001b[39;00m \u001b[38;5;28mself\u001b[39m\u001b[38;5;241m.\u001b[39m_tmp_session(session) \u001b[38;5;28;01mas\u001b[39;00m s:\n\u001b[1;32m   1523\u001b[0m         \u001b[38;5;28;01mreturn\u001b[39;00m \u001b[38;5;28mself\u001b[39m\u001b[38;5;241m.\u001b[39m_retry_with_session(retryable, func, s, bulk)\n",
      "File \u001b[0;32m~/miniconda3/lib/python3.10/contextlib.py:135\u001b[0m, in \u001b[0;36m_GeneratorContextManager.__enter__\u001b[0;34m(self)\u001b[0m\n\u001b[1;32m    133\u001b[0m \u001b[38;5;28;01mdel\u001b[39;00m \u001b[38;5;28mself\u001b[39m\u001b[38;5;241m.\u001b[39margs, \u001b[38;5;28mself\u001b[39m\u001b[38;5;241m.\u001b[39mkwds, \u001b[38;5;28mself\u001b[39m\u001b[38;5;241m.\u001b[39mfunc\n\u001b[1;32m    134\u001b[0m \u001b[38;5;28;01mtry\u001b[39;00m:\n\u001b[0;32m--> 135\u001b[0m     \u001b[38;5;28;01mreturn\u001b[39;00m \u001b[38;5;28;43mnext\u001b[39;49m\u001b[43m(\u001b[49m\u001b[38;5;28;43mself\u001b[39;49m\u001b[38;5;241;43m.\u001b[39;49m\u001b[43mgen\u001b[49m\u001b[43m)\u001b[49m\n\u001b[1;32m    136\u001b[0m \u001b[38;5;28;01mexcept\u001b[39;00m \u001b[38;5;167;01mStopIteration\u001b[39;00m:\n\u001b[1;32m    137\u001b[0m     \u001b[38;5;28;01mraise\u001b[39;00m \u001b[38;5;167;01mRuntimeError\u001b[39;00m(\u001b[38;5;124m\"\u001b[39m\u001b[38;5;124mgenerator didn\u001b[39m\u001b[38;5;124m'\u001b[39m\u001b[38;5;124mt yield\u001b[39m\u001b[38;5;124m\"\u001b[39m) \u001b[38;5;28;01mfrom\u001b[39;00m \u001b[38;5;28;01mNone\u001b[39;00m\n",
      "File \u001b[0;32m~/miniconda3/lib/python3.10/site-packages/pymongo/mongo_client.py:1840\u001b[0m, in \u001b[0;36mMongoClient._tmp_session\u001b[0;34m(self, session, close)\u001b[0m\n\u001b[1;32m   1837\u001b[0m     \u001b[38;5;28;01myield\u001b[39;00m session\n\u001b[1;32m   1838\u001b[0m     \u001b[38;5;28;01mreturn\u001b[39;00m\n\u001b[0;32m-> 1840\u001b[0m s \u001b[38;5;241m=\u001b[39m \u001b[38;5;28;43mself\u001b[39;49m\u001b[38;5;241;43m.\u001b[39;49m\u001b[43m_ensure_session\u001b[49m\u001b[43m(\u001b[49m\u001b[43msession\u001b[49m\u001b[43m)\u001b[49m\n\u001b[1;32m   1841\u001b[0m \u001b[38;5;28;01mif\u001b[39;00m s:\n\u001b[1;32m   1842\u001b[0m     \u001b[38;5;28;01mtry\u001b[39;00m:\n",
      "File \u001b[0;32m~/miniconda3/lib/python3.10/site-packages/pymongo/mongo_client.py:1823\u001b[0m, in \u001b[0;36mMongoClient._ensure_session\u001b[0;34m(self, session)\u001b[0m\n\u001b[1;32m   1818\u001b[0m     \u001b[38;5;28;01mreturn\u001b[39;00m session\n\u001b[1;32m   1820\u001b[0m \u001b[38;5;28;01mtry\u001b[39;00m:\n\u001b[1;32m   1821\u001b[0m     \u001b[38;5;66;03m# Don't make implicit sessions causally consistent. Applications\u001b[39;00m\n\u001b[1;32m   1822\u001b[0m     \u001b[38;5;66;03m# should always opt-in.\u001b[39;00m\n\u001b[0;32m-> 1823\u001b[0m     \u001b[38;5;28;01mreturn\u001b[39;00m \u001b[38;5;28;43mself\u001b[39;49m\u001b[38;5;241;43m.\u001b[39;49m\u001b[43m__start_session\u001b[49m\u001b[43m(\u001b[49m\u001b[38;5;28;43;01mTrue\u001b[39;49;00m\u001b[43m,\u001b[49m\u001b[43m \u001b[49m\u001b[43mcausal_consistency\u001b[49m\u001b[38;5;241;43m=\u001b[39;49m\u001b[38;5;28;43;01mFalse\u001b[39;49;00m\u001b[43m)\u001b[49m\n\u001b[1;32m   1824\u001b[0m \u001b[38;5;28;01mexcept\u001b[39;00m (ConfigurationError, InvalidOperation):\n\u001b[1;32m   1825\u001b[0m     \u001b[38;5;66;03m# Sessions not supported.\u001b[39;00m\n\u001b[1;32m   1826\u001b[0m     \u001b[38;5;28;01mreturn\u001b[39;00m \u001b[38;5;28;01mNone\u001b[39;00m\n",
      "File \u001b[0;32m~/miniconda3/lib/python3.10/site-packages/pymongo/mongo_client.py:1766\u001b[0m, in \u001b[0;36mMongoClient.__start_session\u001b[0;34m(self, implicit, **kwargs)\u001b[0m\n\u001b[1;32m   1763\u001b[0m \u001b[38;5;28;01mdef\u001b[39;00m \u001b[38;5;21m__start_session\u001b[39m(\u001b[38;5;28mself\u001b[39m, implicit: \u001b[38;5;28mbool\u001b[39m, \u001b[38;5;241m*\u001b[39m\u001b[38;5;241m*\u001b[39mkwargs: Any) \u001b[38;5;241m-\u001b[39m\u001b[38;5;241m>\u001b[39m ClientSession:\n\u001b[1;32m   1764\u001b[0m     \u001b[38;5;66;03m# Raises ConfigurationError if sessions are not supported.\u001b[39;00m\n\u001b[1;32m   1765\u001b[0m     \u001b[38;5;28;01mif\u001b[39;00m implicit:\n\u001b[0;32m-> 1766\u001b[0m         \u001b[38;5;28;43mself\u001b[39;49m\u001b[38;5;241;43m.\u001b[39;49m\u001b[43m_topology\u001b[49m\u001b[38;5;241;43m.\u001b[39;49m\u001b[43m_check_implicit_session_support\u001b[49m\u001b[43m(\u001b[49m\u001b[43m)\u001b[49m\n\u001b[1;32m   1767\u001b[0m         server_session: Union[_EmptyServerSession, _ServerSession] \u001b[38;5;241m=\u001b[39m _EmptyServerSession()\n\u001b[1;32m   1768\u001b[0m     \u001b[38;5;28;01melse\u001b[39;00m:\n",
      "File \u001b[0;32m~/miniconda3/lib/python3.10/site-packages/pymongo/topology.py:573\u001b[0m, in \u001b[0;36mTopology._check_implicit_session_support\u001b[0;34m(self)\u001b[0m\n\u001b[1;32m    571\u001b[0m \u001b[38;5;28;01mdef\u001b[39;00m \u001b[38;5;21m_check_implicit_session_support\u001b[39m(\u001b[38;5;28mself\u001b[39m) \u001b[38;5;241m-\u001b[39m\u001b[38;5;241m>\u001b[39m \u001b[38;5;28;01mNone\u001b[39;00m:\n\u001b[1;32m    572\u001b[0m     \u001b[38;5;28;01mwith\u001b[39;00m \u001b[38;5;28mself\u001b[39m\u001b[38;5;241m.\u001b[39m_lock:\n\u001b[0;32m--> 573\u001b[0m         \u001b[38;5;28;43mself\u001b[39;49m\u001b[38;5;241;43m.\u001b[39;49m\u001b[43m_check_session_support\u001b[49m\u001b[43m(\u001b[49m\u001b[43m)\u001b[49m\n",
      "File \u001b[0;32m~/miniconda3/lib/python3.10/site-packages/pymongo/topology.py:589\u001b[0m, in \u001b[0;36mTopology._check_session_support\u001b[0;34m(self)\u001b[0m\n\u001b[1;32m    585\u001b[0m         \u001b[38;5;28mself\u001b[39m\u001b[38;5;241m.\u001b[39m_select_servers_loop(\n\u001b[1;32m    586\u001b[0m             any_server_selector, \u001b[38;5;28mself\u001b[39m\u001b[38;5;241m.\u001b[39mget_server_selection_timeout(), \u001b[38;5;28;01mNone\u001b[39;00m\n\u001b[1;32m    587\u001b[0m         )\n\u001b[1;32m    588\u001b[0m \u001b[38;5;28;01melif\u001b[39;00m \u001b[38;5;129;01mnot\u001b[39;00m \u001b[38;5;28mself\u001b[39m\u001b[38;5;241m.\u001b[39m_description\u001b[38;5;241m.\u001b[39mreadable_servers:\n\u001b[0;32m--> 589\u001b[0m     \u001b[38;5;28;43mself\u001b[39;49m\u001b[38;5;241;43m.\u001b[39;49m\u001b[43m_select_servers_loop\u001b[49m\u001b[43m(\u001b[49m\n\u001b[1;32m    590\u001b[0m \u001b[43m        \u001b[49m\u001b[43mreadable_server_selector\u001b[49m\u001b[43m,\u001b[49m\u001b[43m \u001b[49m\u001b[38;5;28;43mself\u001b[39;49m\u001b[38;5;241;43m.\u001b[39;49m\u001b[43mget_server_selection_timeout\u001b[49m\u001b[43m(\u001b[49m\u001b[43m)\u001b[49m\u001b[43m,\u001b[49m\u001b[43m \u001b[49m\u001b[38;5;28;43;01mNone\u001b[39;49;00m\n\u001b[1;32m    591\u001b[0m \u001b[43m    \u001b[49m\u001b[43m)\u001b[49m\n\u001b[1;32m    593\u001b[0m session_timeout \u001b[38;5;241m=\u001b[39m \u001b[38;5;28mself\u001b[39m\u001b[38;5;241m.\u001b[39m_description\u001b[38;5;241m.\u001b[39mlogical_session_timeout_minutes\n\u001b[1;32m    594\u001b[0m \u001b[38;5;28;01mif\u001b[39;00m session_timeout \u001b[38;5;129;01mis\u001b[39;00m \u001b[38;5;28;01mNone\u001b[39;00m:\n",
      "File \u001b[0;32m~/miniconda3/lib/python3.10/site-packages/pymongo/topology.py:259\u001b[0m, in \u001b[0;36mTopology._select_servers_loop\u001b[0;34m(self, selector, timeout, address)\u001b[0m\n\u001b[1;32m    256\u001b[0m \u001b[38;5;28;01mwhile\u001b[39;00m \u001b[38;5;129;01mnot\u001b[39;00m server_descriptions:\n\u001b[1;32m    257\u001b[0m     \u001b[38;5;66;03m# No suitable servers.\u001b[39;00m\n\u001b[1;32m    258\u001b[0m     \u001b[38;5;28;01mif\u001b[39;00m timeout \u001b[38;5;241m==\u001b[39m \u001b[38;5;241m0\u001b[39m \u001b[38;5;129;01mor\u001b[39;00m now \u001b[38;5;241m>\u001b[39m end_time:\n\u001b[0;32m--> 259\u001b[0m         \u001b[38;5;28;01mraise\u001b[39;00m ServerSelectionTimeoutError(\n\u001b[1;32m    260\u001b[0m             \u001b[38;5;124mf\u001b[39m\u001b[38;5;124m\"\u001b[39m\u001b[38;5;132;01m{\u001b[39;00m\u001b[38;5;28mself\u001b[39m\u001b[38;5;241m.\u001b[39m_error_message(selector)\u001b[38;5;132;01m}\u001b[39;00m\u001b[38;5;124m, Timeout: \u001b[39m\u001b[38;5;132;01m{\u001b[39;00mtimeout\u001b[38;5;132;01m}\u001b[39;00m\u001b[38;5;124ms, Topology Description: \u001b[39m\u001b[38;5;132;01m{\u001b[39;00m\u001b[38;5;28mself\u001b[39m\u001b[38;5;241m.\u001b[39mdescription\u001b[38;5;132;01m!r}\u001b[39;00m\u001b[38;5;124m\"\u001b[39m\n\u001b[1;32m    261\u001b[0m         )\n\u001b[1;32m    263\u001b[0m     \u001b[38;5;28mself\u001b[39m\u001b[38;5;241m.\u001b[39m_ensure_opened()\n\u001b[1;32m    264\u001b[0m     \u001b[38;5;28mself\u001b[39m\u001b[38;5;241m.\u001b[39m_request_check_all()\n",
      "\u001b[0;31mServerSelectionTimeoutError\u001b[0m: localhost:27017: [Errno 61] Connection refused (configured timeouts: socketTimeoutMS: 20000.0ms, connectTimeoutMS: 20000.0ms), Timeout: 30s, Topology Description: <TopologyDescription id: 65e349b91582e88af005785c, topology_type: Unknown, servers: [<ServerDescription ('localhost', 27017) server_type: Unknown, rtt: None, error=AutoReconnect('localhost:27017: [Errno 61] Connection refused (configured timeouts: socketTimeoutMS: 20000.0ms, connectTimeoutMS: 20000.0ms)')>]>"
     ]
    }
   ],
   "source": [
    "db.store_link_with_uuid(111)"
   ]
  },
  {
   "cell_type": "code",
   "execution_count": 21,
   "id": "43e214e1-a1bf-4cec-a812-c638fcd71458",
   "metadata": {},
   "outputs": [],
   "source": [
    "from munch import Munch"
   ]
  },
  {
   "cell_type": "code",
   "execution_count": 22,
   "id": "e1332915-d309-4a3c-80fe-8134a04cc7c8",
   "metadata": {},
   "outputs": [],
   "source": [
    "args = Munch()"
   ]
  },
  {
   "cell_type": "code",
   "execution_count": 23,
   "id": "cd0e1fc6-1541-4894-8544-56118a71100a",
   "metadata": {},
   "outputs": [],
   "source": [
    "args.template_config_path = '/Users/blackjacker/code/master_demo/files/styles_config.csv'"
   ]
  },
  {
   "cell_type": "code",
   "execution_count": 26,
   "id": "40e7e0df-8d17-44e2-a188-99a4e4ec5fa8",
   "metadata": {},
   "outputs": [],
   "source": [
    "data = {'categories': {}}\n",
    "\n",
    "with open(args.template_config_path, mode='r') as csv_file:\n",
    "    csv_reader = csv.DictReader(csv_file)\n",
    "    for row in csv_reader:\n",
    "        category = row['type']\n",
    "        if category not in data['categories']:\n",
    "            data['categories'][category] = {\n",
    "                'name': category.capitalize() + ' styles',\n",
    "                'templates': []\n",
    "            }\n",
    "\n",
    "        image_url =row['image_path']\n",
    "        \n",
    "        data['categories'][category]['templates'].append({\n",
    "            'id': row['id'],\n",
    "            'title': row['title'],\n",
    "            'description': row['description'],\n",
    "        })\n",
    "\n",
    "# Convert the categories dictionary to a list\n",
    "data['categories'] = list(data['categories'].values())"
   ]
  },
  {
   "cell_type": "code",
   "execution_count": 90,
   "id": "0cc1c159-e186-4775-af85-0172b31d92d0",
   "metadata": {},
   "outputs": [],
   "source": [
    "!cp /Users/blackjacker/code/master_demo/files/request_config.json /Users/blackjacker/Downloads/"
   ]
  },
  {
   "cell_type": "code",
   "execution_count": 45,
   "id": "46da67da-2e5e-45b2-ba6c-16e0df61d9f2",
   "metadata": {},
   "outputs": [],
   "source": [
    "path = '/Users/blackjacker/code/master_demo/files/styles_config.json'\n",
    "path_styles = '/Users/blackjacker/code/master_demo/files/styles_effect_config.json'"
   ]
  },
  {
   "cell_type": "code",
   "execution_count": 71,
   "id": "fb6edc32-001c-4275-93f1-f2fd712d0846",
   "metadata": {},
   "outputs": [],
   "source": [
    "templates_json = json.load(open(path, 'r'))\n",
    "\n",
    "# Add effect_ids to each template\n",
    "for category in templates_json['categories']:\n",
    "    for template in category['templates']:\n",
    "        template_id = template['id']\n",
    "        # Assigning effect IDs - In this case, using the same template ID for simplicity\n",
    "        template['effect_ids'] = [template_id, '1']  # Assuming one-to-one mapping for demonstration\n"
   ]
  },
  {
   "cell_type": "code",
   "execution_count": 72,
   "id": "29fa65ca-3614-4259-a5cf-08efee1a079d",
   "metadata": {},
   "outputs": [],
   "source": [
    "json.dump(templates_json,open(path, 'w'))"
   ]
  },
  {
   "cell_type": "code",
   "execution_count": 63,
   "id": "7f61f3db-ac79-480b-bc09-c6e72bcea754",
   "metadata": {},
   "outputs": [],
   "source": [
    "effects_data = {\n",
    "    \"1\": {\"config_file_path\": \"path/to/multiverse/config\", \"name\": \"Multiverse Effect\", \"description\": \"Multiverse swirling energy.\"},\n",
    "    \"2\": {\"config_file_path\": \"path/to/knight/config\", \"name\": \"Knight Armor\", \"description\": \"Shiny medieval armor.\"},\n",
    "    \"3\": {\"config_file_path\": \"path/to/comic/config\", \"name\": \"Comic Blast\", \"description\": \"Comic book style blasts and bubbles.\"},\n",
    "    \"4\": {\"config_file_path\": \"path/to/chrome/config\", \"name\": \"Chrome Shine\", \"description\": \"Futuristic metallic finish.\"},\n",
    "    \"5\": {\"config_file_path\": \"path/to/robot/config\", \"name\": \"Robot Transformation\", \"description\": \"Mechanical gears and parts.\"},\n",
    "    \"6\": {\"config_file_path\": \"path/to/space/config\", \"name\": \"Space Odyssey\", \"description\": \"Stellar and cosmic effects.\"},\n",
    "    \"7\": {\"config_file_path\": \"path/to/fantasy/config\", \"name\": \"Fantasy Aura\", \"description\": \"Magical and mystical aura.\"},\n",
    "    \"8\": {\"config_file_path\": \"path/to/charming/config\", \"name\": \"Charming Glow\", \"description\": \"Enchanting and alluring light.\"},\n",
    "    \"9\": {\"config_file_path\": \"path/to/wizard/config\", \"name\": \"Wizard Magic\", \"description\": \"Spells and enchantments visualized.\"}\n",
    "}"
   ]
  },
  {
   "cell_type": "code",
   "execution_count": 64,
   "id": "c916a926-0fa1-4582-895b-7c4bb1588698",
   "metadata": {},
   "outputs": [],
   "source": [
    "json.dump(effects_data,open(path_styles, 'w'))"
   ]
  },
  {
   "cell_type": "code",
   "execution_count": 73,
   "id": "c0505d31-e5e2-4ddd-ad97-982188456f0c",
   "metadata": {},
   "outputs": [],
   "source": [
    "templates_json_effect = json.load(open(path, 'r'))"
   ]
  },
  {
   "cell_type": "code",
   "execution_count": 74,
   "id": "fd866cc2-a1a8-4294-88f5-fa93b2e95e61",
   "metadata": {},
   "outputs": [],
   "source": [
    "# Step 1: Iterate through the templates and replace effect_ids with effect data\n",
    "\n",
    "for category in templates_json_effect['categories']:\n",
    "    for template in category['templates']:\n",
    "        # Replace each effect_id with the corresponding effect data from effects_data\n",
    "        effect_ids = template['effect_ids']\n",
    "        effects = []\n",
    "        for effect_id in effect_ids:\n",
    "            effect_data = deepcopy(effects_data[effect_id])\n",
    "            del effect_data['config_file_path']\n",
    "            effect_data['effect_id'] = effect_id\n",
    "            effects.append(effect_data)\n",
    "        template['effects'] = effects\n",
    "        # Optionally, remove the original effect_ids field if no longer needed\n",
    "        del template['effect_ids']"
   ]
  },
  {
   "cell_type": "code",
   "execution_count": 77,
   "id": "68e4d722-5abf-4a38-b963-cca229a56e81",
   "metadata": {},
   "outputs": [],
   "source": [
    "template_json_path = '/Users/blackjacker/code/master_demo/files/templates_config.json'"
   ]
  },
  {
   "cell_type": "code",
   "execution_count": 78,
   "id": "ce0ec43e-fc7c-4811-aeb1-07254f5a2a27",
   "metadata": {},
   "outputs": [],
   "source": [
    "json.dump(templates_json_effect, open(template_json_path, 'w'))"
   ]
  },
  {
   "cell_type": "code",
   "execution_count": null,
   "id": "fe7fe90a-e7b9-4d69-b654-8278ac84252f",
   "metadata": {},
   "outputs": [],
   "source": []
  },
  {
   "cell_type": "code",
   "execution_count": 88,
   "id": "7add4fb0-594e-4cd4-b0f0-9a1fac182336",
   "metadata": {},
   "outputs": [],
   "source": [
    "object_info_json = {\n",
    " 'objects': {\n",
    "     'Object_1': {'effect_id': 1,\n",
    "     'bbox': [210, 687, 525, 1796]},\n",
    "     'Object_2': {'effect_id': 2,\n",
    "   'bbox': [529, 589, 1049, 1806]}\n",
    " },\n",
    " 'task_type': 'video',\n",
    "}"
   ]
  },
  {
   "cell_type": "code",
   "execution_count": 87,
   "id": "1f10692c-0b34-47e7-a265-74424728aa85",
   "metadata": {},
   "outputs": [],
   "source": [
    "request_json_path = '/Users/blackjacker/code/master_demo/files/request_config.json'"
   ]
  },
  {
   "cell_type": "code",
   "execution_count": 89,
   "id": "fd0e18d5-e270-4002-a3cd-f7be3c00d840",
   "metadata": {},
   "outputs": [],
   "source": [
    "json.dump(object_info_json, open(request_json_path, 'w'))"
   ]
  },
  {
   "cell_type": "code",
   "execution_count": 86,
   "id": "49e2e891-02ca-4d88-ae6a-ea5068acd5ea",
   "metadata": {},
   "outputs": [
    {
     "data": {
      "text/plain": [
       "{'objects': {'Object_1': {'effect_id': 1, 'bbox': [210, 687, 525, 1796]},\n",
       "  'Object_2': {'effect_id': 2, 'bbox': [529, 589, 1049, 1806]}},\n",
       " 'task_type': 'video'}"
      ]
     },
     "execution_count": 86,
     "metadata": {},
     "output_type": "execute_result"
    }
   ],
   "source": [
    "object_info_json"
   ]
  },
  {
   "cell_type": "code",
   "execution_count": null,
   "id": "92b6b253-bb58-402a-8232-1d7119d474c6",
   "metadata": {},
   "outputs": [],
   "source": []
  },
  {
   "cell_type": "code",
   "execution_count": null,
   "id": "2e9212d0-4870-4097-b06b-02f78e76b66d",
   "metadata": {},
   "outputs": [],
   "source": []
  },
  {
   "cell_type": "code",
   "execution_count": null,
   "id": "07766cef-c649-4787-8156-abfd52fe22d2",
   "metadata": {},
   "outputs": [],
   "source": []
  },
  {
   "cell_type": "code",
   "execution_count": null,
   "id": "5bf5e77d-2847-45fa-8e7e-0e7c6d6aba42",
   "metadata": {},
   "outputs": [],
   "source": []
  }
 ],
 "metadata": {
  "kernelspec": {
   "display_name": "Python 3 (ipykernel)",
   "language": "python",
   "name": "python3"
  },
  "language_info": {
   "codemirror_mode": {
    "name": "ipython",
    "version": 3
   },
   "file_extension": ".py",
   "mimetype": "text/x-python",
   "name": "python",
   "nbconvert_exporter": "python",
   "pygments_lexer": "ipython3",
   "version": "3.10.9"
  }
 },
 "nbformat": 4,
 "nbformat_minor": 5
}
